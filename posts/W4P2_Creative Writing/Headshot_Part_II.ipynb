{
 "cells": [
  {
   "cell_type": "raw",
   "id": "ac87cceb-7a1a-4d9e-a58d-60edec710642",
   "metadata": {},
   "source": [
    "---\n",
    "title: \"Artisticalize your headshot? A prompting journal and comparison between GPT-5 and gemini 2.5 flash (PartII)\"\n",
    "description: \"Can AI become my visual designer?\" \n",
    "author: \"Haowei\"\n",
    "date: \"9/18/2025\"\n",
    "categories:\n",
    "  - Prompt Engineering\n",
    "  - Multimodel\n",
    "  - Image Generation\n",
    "---"
   ]
  },
  {
   "cell_type": "markdown",
   "id": "cfc437b2-20d6-4c55-a724-68169fa415b1",
   "metadata": {},
   "source": [
    "# Artisticalize your headshot? (Part II)\n",
    "A prompting journal and comparison between GPT-5 and gemini 2.5 flash"
   ]
  },
  {
   "cell_type": "markdown",
   "id": "5956aa7e-e6e8-4aaf-9182-3235f978dd48",
   "metadata": {},
   "source": [
    "\n",
    "<u>Gemini 2.5 flash: Quick response, Steady Iteration</u>\n",
    "Gemini, I would say, listened to all my instructions, but just didn’t do that well. Here are the five photos it returned after my initial prompt:\n",
    "> This is my headshot. Follow the above instructions to redesign it. By redesign I mean adding frames and small elements and changing the color of the image. DO NOT change the characteristics of the person in the image. This will be used for a design portfolio, so the attire can be creative but don't be too informal.\n",
    "\n",
    "Gemini 2.5 flash response:\n",
    ">Great! Here are five artistic redesign options for your headshot, incorporating frames and creative elements with a bright, light-intensity palette of purples, pinks, yellows, and blues. I've focused on enhancing the artistic feel for your design portfolio while keeping your attire suitable.\n",
    ">\n",
    "><div align=\"left\"> <img src=\"geminiheadshot.png\" alt=\"five headshots gemini generated\" width=\"200\"> </div>\n"
   ]
  },
  {
   "cell_type": "markdown",
   "id": "6fe09b08-422b-4ee2-b538-e241a030a39b",
   "metadata": {},
   "source": [
    "\n",
    "<u>Gemini can do better at context analysis:</u>\n",
    "Great communication, fast response time (compared to gpt-5 which took me minutes), organized output, but just less aesthetically appealing to me. I can see from the color palettes that it did take into account the samples I sent it, but the style was a little too cartoon-like, almost like a headshot for a kids channel not a professional profile. I would say Gemini 2.5 flash can do better at understanding the context and prioritizing the key context in output characteristics. \n",
    "\n",
    "It’s okay that the initial round didn’t work that well. I tried a few more rounds of prompting to ask for more integral connection between picture and the frame, more modern look, but it didn’t surprise me. Here I included several versions it created. The pictures were okay but still needed a little artistic feeling. "
   ]
  },
  {
   "cell_type": "markdown",
   "id": "bba0a150-3f2a-469f-bf2e-1f2e24fae765",
   "metadata": {},
   "source": [
    "><div align=\"left\"> <img src=\"redesigngemini.png\" alt=\"five headshots gemini generated\" width=\"200\"> </div>"
   ]
  },
  {
   "cell_type": "markdown",
   "id": "3a38a175-2fbd-48a8-8434-e480d01d1cf7",
   "metadata": {},
   "source": [
    "and I even sent it the one gpt-5 created, but Gemini 2.5 wasn’t able to bring any new thing, so eventually I went for the version gpt-5 created. "
   ]
  },
  {
   "cell_type": "markdown",
   "id": "a48bde16-383f-4ffb-ab18-705fae312691",
   "metadata": {},
   "source": [
    "## Conclusion\n",
    "\n",
    "**Personally, I would choose GPT-5.**\n",
    "\n",
    "While Gemini 2.5 flash is like a student who is always on time for class, early for homeworks but does not hand over the most impressive projects, GPT-5 is like the naughtiest student in the class who never follows the traditional route but surprises you with its creativity. The higher accuracy for GPT-5 to understand my request and reach a good quality product at the beginning won my vote on it. I think I value the quality of work more than following a specific format I asked for (I will be such an annoying boss if this is a real work scenario…). \n",
    " \n",
    "Finding out GPT-5 did better was a little surprising to me. Before I started this project, Gemini 2.5 had more of my bet because it had the obvious “create image” tab that I started with, and I knew that Gemini is known for its indepth logic and research skills, which made me think maybe it will create better images. \n",
    "\n",
    "**For Better Comparison Tests:**\n",
    "There are some limitations that showed up in this small experiment and can be improved in the future. \n",
    "More conditions should be in control to better compare model ability in creating images or other specific fields. For example, both models should be in “create image” mode. \n",
    "I should also try to control the follow up conversation prompts as much as possible, but this requires more discussions and experiments on whether controlling every single prompt will be an accurate assessment on model ability. (this will be further explored in future blogs on video generation)\n",
    "Prompting can be improved by adding semantic context and splitting information in further chunks. \n",
    "Overall, LLMs are now pretty good at high level (not detailed adjustments) visual design, as models can now quickly interpret users’ preference and make similar but creative visual products. With this headshot redesign task can be done on general chat agents (ChatGPT and Gemini), publics can now access fast iterative creative design service in a few minutes. This makes me think of how designers may use AI tools in their work and the role of designers in the future. With AI tools completing many design drafting, would more graphic and visual designers move on to in depth design fields such as 3d modeling or would there be even more needs in design research for designers to understand customers’ needs and bridge the communication between end user and AI design tools?\n",
    "\n"
   ]
  },
  {
   "cell_type": "code",
   "execution_count": null,
   "id": "3f5bdb95-2292-4535-b22a-e4af2ce430b6",
   "metadata": {},
   "outputs": [],
   "source": []
  }
 ],
 "metadata": {
  "kernelspec": {
   "display_name": "Python 3-12 (COMM4190)",
   "language": "python",
   "name": "python3-12_comm4190"
  },
  "language_info": {
   "codemirror_mode": {
    "name": "ipython",
    "version": 3
   },
   "file_extension": ".py",
   "mimetype": "text/x-python",
   "name": "python",
   "nbconvert_exporter": "python",
   "pygments_lexer": "ipython3",
   "version": "3.12.11"
  }
 },
 "nbformat": 4,
 "nbformat_minor": 5
}
