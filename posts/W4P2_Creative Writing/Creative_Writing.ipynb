{
 "cells": [
  {
   "cell_type": "raw",
   "id": "ac87cceb-7a1a-4d9e-a58d-60edec710642",
   "metadata": {},
   "source": [
    "---\n",
    "title: \"LLMs and Creative Writing\"\n",
    "description: \"Writing skills of LLMs\" \n",
    "author: \"Haowei\"\n",
    "date: \"9/18/2025\"\n",
    "categories:\n",
    "  - Prompt Engineering\n",
    "  - Text Generation\n",
    "  - Creative Writing\n",
    "---"
   ]
  },
  {
   "cell_type": "markdown",
   "id": "cfc437b2-20d6-4c55-a724-68169fa415b1",
   "metadata": {},
   "source": [
    "# Creative Writing"
   ]
  }
 ],
 "metadata": {
  "kernelspec": {
   "display_name": "Python 3-12 (COMM4190)",
   "language": "python",
   "name": "python3-12_comm4190"
  },
  "language_info": {
   "codemirror_mode": {
    "name": "ipython",
    "version": 3
   },
   "file_extension": ".py",
   "mimetype": "text/x-python",
   "name": "python",
   "nbconvert_exporter": "python",
   "pygments_lexer": "ipython3",
   "version": "3.12.11"
  }
 },
 "nbformat": 4,
 "nbformat_minor": 5
}
