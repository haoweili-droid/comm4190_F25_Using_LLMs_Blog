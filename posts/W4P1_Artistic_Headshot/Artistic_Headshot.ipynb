{
 "cells": [
  {
   "cell_type": "code",
   "execution_count": null,
   "id": "815f9def-e154-4cbb-b7c7-2aaeacbbaa37",
   "metadata": {},
   "outputs": [],
   "source": [
    "---\n",
    "title: \"Artisticalize your headshot? A prompting journal and comparison between GPT-5 and gemini 2.5 flash.\"\n",
    "description: \"Can AI become my visual designer?\" \n",
    "author: \"Haowei\"\n",
    "date: \"9/18/2025\"\n",
    "categories:\n",
    "  - Prompt Engineering\n",
    "  - Multimodel\n",
    "  - Image Generation\n",
    "---"
   ]
  },
  {
   "cell_type": "markdown",
   "id": "a4ab9e0d-1f70-4fed-841b-48845feaa44b",
   "metadata": {},
   "source": [
    "# Artisticalize your headshot? A prompting journal and comparison between GPT-5 and gemini 2.5 flash."
   ]
  }
 ],
 "metadata": {
  "kernelspec": {
   "display_name": "Python 3-12 (COMM4190)",
   "language": "python",
   "name": "python3-12_comm4190"
  },
  "language_info": {
   "codemirror_mode": {
    "name": "ipython",
    "version": 3
   },
   "file_extension": ".py",
   "mimetype": "text/x-python",
   "name": "python",
   "nbconvert_exporter": "python",
   "pygments_lexer": "ipython3",
   "version": "3.12.11"
  }
 },
 "nbformat": 4,
 "nbformat_minor": 5
}
