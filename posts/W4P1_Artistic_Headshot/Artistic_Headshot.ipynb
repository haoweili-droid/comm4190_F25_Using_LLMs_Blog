{
 "cells": [
  {
   "cell_type": "raw",
   "id": "03262623-a94b-4f9e-8f73-4c0fd8e70a6b",
   "metadata": {},
   "source": [
    "---\n",
    "title: \"Artisticalize your headshot? A prompting journal and comparison between GPT-5 and gemini 2.5 flash.\"\n",
    "description: \"Can AI become my visual designer?\" \n",
    "author: \"Haowei\"\n",
    "date: \"9/18/2025\"\n",
    "categories:\n",
    "  - Prompt Engineering\n",
    "  - Multimodel\n",
    "  - Image Generation\n",
    "---"
   ]
  },
  {
   "cell_type": "markdown",
   "id": "a4ab9e0d-1f70-4fed-841b-48845feaa44b",
   "metadata": {},
   "source": [
    "# Artisticalize your headshot? (Part I)\n",
    "A prompting journal and comparison between GPT-5 and gemini 2.5 flash"
   ]
  },
  {
   "cell_type": "markdown",
   "id": "4cd280c1-03a8-4171-955c-90da7db6d324",
   "metadata": {},
   "source": [
    "## Background\n",
    "I have always wanted to create an artistic profile photo that represents me but also includes creativity. As LLMs can now create great images, I decided to have them redesign my profile photo. \n",
    "\n",
    "As a reference, below I include my profile photo (as it appears in the “About” section of this blog site) and my desired painting art style with artistic elements and frames surrounding the figure. \n"
   ]
  },
  {
   "cell_type": "markdown",
   "id": "f10e397b-9963-49b9-bebc-546c634eb270",
   "metadata": {},
   "source": [
    "<div align=\"left\">\n",
    "  <img src=\"headshot.jpg\" alt=\"my headshot\" width=\"200\">\n",
    "</div>"
   ]
  },
  {
   "cell_type": "markdown",
   "id": "d0cea461-5370-4c0a-899d-b13375ae9014",
   "metadata": {},
   "source": [
    "*My Profile Photo*"
   ]
  },
  {
   "cell_type": "markdown",
   "id": "625ba3ff-c38a-4aed-9f01-0912e5d890d8",
   "metadata": {},
   "source": [
    "<div align=\"left\">\n",
    "  <img src=\"style.png\" alt=\"the style I want\" width=\"300\">\n",
    "</div>"
   ]
  },
  {
   "cell_type": "markdown",
   "id": "25922a1c-d5b0-4dc4-a4d9-d2fe747fd008",
   "metadata": {},
   "source": [
    "*The Style I want (photos from freepik)*"
   ]
  },
  {
   "cell_type": "markdown",
   "id": "57e8aad9-244a-4b61-8fbe-42e9e58a3edb",
   "metadata": {},
   "source": [
    "I was curious about which model performs better in image redesign tasks, so I decided to do a control test between two LLMs and understand which one is better at doing these types of image generation tasks. I knew that for image creation, specific tools such as Midjourney or Google’s Nanobanana may work better, but considering the experience of non tech savvy audiences who may interact with general chat agents more, I decided to use the two most popular general AI chat tools: ChatGPT and Gemini. Among all the LLMs models, the latest and most advanced ones include GPT-5 and Gemini 2.5 flash in ChatGPT and Google Gemini chats. \n"
   ]
  },
  {
   "cell_type": "markdown",
   "id": "7dcd29f9-4ee6-4a68-a5c7-01be60b9cb75",
   "metadata": {},
   "source": [
    "## Prompts and Controlled Conditions\n",
    "In my previous experience generating photos from an LLM based chat agent, I needed to do many rounds of prompting and often could not get the one that fits my needs. Reflecting now, I probably did not use careful prompting to craft the output. Therefore, this time I was using The Five Principles of Prompting described by James Phonexi and Mike Taylor in Prompt Engineering for Generative AI to direct my prompts. The following table includes the explanation of each principle from the book and how I used it to create my initial prompt for redesigning my profile photo. "
   ]
  },
  {
   "cell_type": "markdown",
   "id": "d466678f-e809-4245-b627-a8f8ff696e12",
   "metadata": {},
   "source": [
    "**Table 1**. Initial Prompts Sent to GPT-5 and Gemini 2.5 flash Following the Five Principles of Prompting"
   ]
  },
  {
   "cell_type": "markdown",
   "id": "60f3db61-7a8f-44f9-8112-1fc8b889abc4",
   "metadata": {},
   "source": [
    "| Prompt Engineering Principle | Explanation (by Phonexi & Taylor) | My Prompting Strategy (prompts and commands I sent to LLMs) |\n",
    "|:-----------------------------|:-----------------------------------|:------------------------------------------------------------|\n",
    "| **Give Direction** | “Describe the desired style in detail, or reference a relevant persona” | *Redesign my current profile photo (I'll upload it later) and make it look artistic.*<br><br>*The desired color style of the photo is bright and shows creativity.*<br><br>*I want the color palette to be a mix of purple, pink, yellow, blue but in light intensity.* |\n",
    "| **Specify Format** | “Define what rules to follow, and the required structure of the response” | *Return five design options in .jpg format.* |\n",
    "| **Provide Examples** | “Insert a diverse set of test cases where the task was done correctly” | *I've included several examples attached here.*<br>![Sample](sample_headshots.png)<br>(Sample headshot photos from freepik) |\n",
    "| **Evaluate Quality** | “Identify errors and rate responses, testing what drives performance” | *I gave feedback and evaluation for further improvement in multiple rounds of follow up conversations, for example:*<br><br>*I like the color and elements added, but this cartoon style seems to make people look older than they should. The character in this photo is 23 years old. Also this does not necessarily have to be in cartoon style. You may keep the realistic character. Now redesign based on the suggestions, return 4 designs, 2 in cartoon style and 2 not.*<br><br>*I like the fourth one in terms of the frames and how it keeps the background, but I also like number 3 for the color. Try mixing the two. DO NOT alter any object or characteristics of the person in the image including clothes style and color.* |\n",
    "| **Divide Labor** | “Split tasks into multiple steps, chained together for complex goals” | *I gave the instruction first then followed up with my original headshot and more detailed instructions on the occasion, restrictions, explanations on design plan etc. I asked for a rough redesign first and then adjust the details and colors.*<br><br>*Follow up after initial prompt:*<br>*This is my headshot. Follow the above instructions to redesign it. By redesign I mean adding frames and small elements and changing the color of the image. DO NOT change the characteristics of the person in the image. This will be used for a design portfolio, so the attire can be creative but don't be too informal.*<br><br>*[attached my profile photo]* |\n"
   ]
  },
  {
   "cell_type": "markdown",
   "id": "23118979-0e92-4166-8851-2ab9a6ff0a25",
   "metadata": {},
   "source": [
    "To control the conditions, I used the same prompts that gave out initial instructions and reference photos for both gpt-5 and gemini 2.5 flash. I also kept my goal or result expectations on the two models similar to the sample images, though I had to give different feedback on the various outputs the two models provided back. I sent the initial prompts at the same time of the day and continued conversations with one model while the other was generating or processing answers. \n"
   ]
  },
  {
   "cell_type": "markdown",
   "id": "da63adbf-9d64-4d5d-aeab-fc959142ebd6",
   "metadata": {},
   "source": [
    "**Processes and Results Comparing Two Models**\n",
    "\n",
    "In this section, I will reflect on my experience prompting and evaluating the two models to redesign my profile photo based on my imagined style. \n",
    "\n",
    "GPT-5: Slow start, Fast Improvement\n",
    "GPT-5 had a long processing time, missed instructions on formatting and lacked text explanations along with images generated. \n",
    "\n",
    "GPT-5 seemed to misunderstand formatting commands: After my initial prompt, which I mentioned that the photo to be redesigned will be uploaded later, GPT-5 already started to generate a photo using the two sample images, and I got a combined collage that was not myself at all but the figure in the sample photo. GPT-5 misunderstood the single person headshot to be my photo. \n"
   ]
  },
  {
   "cell_type": "code",
   "execution_count": null,
   "id": "22d16831-9b2d-47cf-ab4d-c34d2f846a35",
   "metadata": {},
   "outputs": [],
   "source": []
  }
 ],
 "metadata": {
  "kernelspec": {
   "display_name": "Python 3-12 (COMM4190)",
   "language": "python",
   "name": "python3-12_comm4190"
  },
  "language_info": {
   "codemirror_mode": {
    "name": "ipython",
    "version": 3
   },
   "file_extension": ".py",
   "mimetype": "text/x-python",
   "name": "python",
   "nbconvert_exporter": "python",
   "pygments_lexer": "ipython3",
   "version": "3.12.11"
  }
 },
 "nbformat": 4,
 "nbformat_minor": 5
}
