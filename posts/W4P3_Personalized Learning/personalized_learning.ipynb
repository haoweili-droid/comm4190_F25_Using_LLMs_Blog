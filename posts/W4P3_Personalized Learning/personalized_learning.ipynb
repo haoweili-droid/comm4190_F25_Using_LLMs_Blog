{
 "cells": [
  {
   "cell_type": "raw",
   "id": "6d29df62-c99e-4430-9006-35d42f5af239",
   "metadata": {},
   "source": [
    "---\n",
    "title: \"LLMs and Personalized Learning\"\n",
    "description: \"A thought piece from Google's 'Learn Your Way' function\" \n",
    "author: \"Haowei\"\n",
    "date: \"9/19/2025\"\n",
    "categories:\n",
    "  - Prompt Engineering\n",
    "  - Multimodel\n",
    "  - Learning\n",
    "---"
   ]
  },
  {
   "cell_type": "markdown",
   "id": "b2e9f2be-e8d7-4685-bc2f-55b0198eec7f",
   "metadata": {},
   "source": [
    "# Can AI Textbooks Really Teach Us “Our Way”?"
   ]
  },
  {
   "cell_type": "markdown",
   "id": "f4081c27-1406-49cf-83a5-b429ef444012",
   "metadata": {},
   "source": [
    "Shaaron Ainsworth (2018) wrote about the power of using multiple representations when we learn—things like text, images, diagrams, or even games. The big idea is that different formats can make learning richer, but more isn’t always better. Sometimes, piling on complicated visuals or fancy tools just makes people more confused.\n",
    "\n",
    "This made me think about Google’s new experiment called Learn Your Way. It’s basically an AI-augmented textbook powered by LLMs that can spin the same material into four different versions:\n",
    "\n",
    "* Text with images and little quizzes\n",
    "* Slides with narration\n",
    "* Audio lessons\n",
    "* Mindmaps"
   ]
  },
  {
   "cell_type": "markdown",
   "id": "1c51ac72-96f2-4cc3-bbe3-3f4d5c43fe65",
   "metadata": {},
   "source": [
    "<div align=\"center\">\n",
    "  <img src=\"learnyourway.png\" alt=\"learnyourway website by google\" width=\"400\">\n",
    "</div>"
   ]
  },
  {
   "cell_type": "markdown",
   "id": "8652ac09-7c72-4e40-9ec7-b6a97bb78445",
   "metadata": {},
   "source": [
    "<p style=\"text-align:center;\"><em>website of Learn Your Way by Google</em></p>\n"
   ]
  },
  {
   "cell_type": "markdown",
   "id": "ac24e004-0437-4a34-8885-0f1f89599efe",
   "metadata": {},
   "source": [
    "\n",
    "At first glance, this is super cool. It’s like having a magic button that says, “Hey, do you want your homework as a podcast, a PowerPoint, or a mindmap?” If you hate reading walls of text, maybe you’ll prefer listening. If you’re more visual, the mindmap might click instantly.\n",
    "\n",
    "But here’s the catch: more choice doesn’t always mean better learning. If you bounce from audio to slides to mindmap, you might just end up scrolling around instead of actually paying attention. It’s a little like opening Netflix, browsing for half an hour, and then realizing you haven’t watched anything.\n",
    "\n",
    "What makes this experiment fascinating is the role of LLMs. Traditional textbooks are frozen in one form. If you wanted an audiobook version, someone had to record it. If you wanted a visual map, a designer had to create it. Now, with an LLM, the same content can be dynamically repurposed in seconds. The AI doesn’t just “translate” text into another medium. It can restructure, simplify, and even add examples or quizzes on the fly. That’s a level of personalization education has never really had.\n",
    "\n",
    "Of course, there are limits. Sometimes LLMs “hallucinate,” meaning they might invent facts or frame things in ways the original text didn’t intend. That raises the question: when the AI reshapes your textbook, are you still learning the same material, or are you learning the AI’s remix of it? And what happens when two students get slightly different versions of the “same” lesson. Will they come away with the same understanding?\n",
    "\n",
    "Still, I can’t help but imagine where this could go. Maybe in the future, instead of one-size-fits-all courses, each person gets a “tutor-bot” that knows their quirks: “Hey, Alex, here’s your lesson in meme format today because you’re tired.” Or: “Jamie, I know you love podcasts, so I turned this lecture into a 10-minute audio story for your walk to class.” That’s the kind of playful, adaptive learning LLMs might actually make possible.\n",
    "\n",
    "So here’s a question: if an LLM can turn your textbook into whatever style you want, will that make you actually learn more or just procrastinate in fancier ways? And maybe the scarier question: how much of your education would then be shaped by what an AI decides is “your way”?"
   ]
  },
  {
   "cell_type": "code",
   "execution_count": null,
   "id": "56ec7381-f308-46c1-9354-d8ff2c128da0",
   "metadata": {},
   "outputs": [],
   "source": []
  }
 ],
 "metadata": {
  "kernelspec": {
   "display_name": "Python 3-12 (COMM4190)",
   "language": "python",
   "name": "python3-12_comm4190"
  },
  "language_info": {
   "codemirror_mode": {
    "name": "ipython",
    "version": 3
   },
   "file_extension": ".py",
   "mimetype": "text/x-python",
   "name": "python",
   "nbconvert_exporter": "python",
   "pygments_lexer": "ipython3",
   "version": "3.12.11"
  }
 },
 "nbformat": 4,
 "nbformat_minor": 5
}
