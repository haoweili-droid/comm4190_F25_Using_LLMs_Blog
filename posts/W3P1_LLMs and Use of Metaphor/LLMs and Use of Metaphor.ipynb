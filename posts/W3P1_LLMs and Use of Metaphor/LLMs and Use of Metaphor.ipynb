{
 "cells": [
  {
   "cell_type": "raw",
   "id": "d55bcd0c-f4bd-455b-b375-4fef245d5695",
   "metadata": {},
   "source": [
    "---\n",
    "title: \"LLMs and Use of Metaphor\"\n",
    "description: \"How well do LLMs do in understanding and generating metaphors and idioms?\" \n",
    "author: \"Haowei\"\n",
    "date: \"9/12/2025\"\n",
    "categories:\n",
    "  - Learning\n",
    "---"
   ]
  },
  {
   "cell_type": "markdown",
   "id": "6b950d8f-62b4-4781-bb8b-554be6f707fd",
   "metadata": {},
   "source": [
    "# LLMs and Use of Metaphor"
   ]
  },
  {
   "cell_type": "markdown",
   "id": "988b461c-bac5-419e-ac76-308f10ffb2f3",
   "metadata": {},
   "source": [
    "In this week’s class we had a first glance at how LLMs are good at language and communication with humans in different scenarios and manners, but most of the examples we saw involved casual daily language. For example, when we talked about the word “bank” in class, there were many meanings associated with “bank” such as a financial institution, plane banking, or basketball bank shot, but they are still in common expressions. I am interested in whether LLM is good at language structures that add complexity in meaning, such as metaphors or idioms. \n"
   ]
  },
  {
   "cell_type": "markdown",
   "id": "f26ea315-4e13-4774-ba11-9760413f475a",
   "metadata": {},
   "source": [
    "### Part I: LLM’s ability in understanding existing metaphors. "
   ]
  },
  {
   "cell_type": "markdown",
   "id": "ff49a5fe-522d-46c4-b402-f51fb95689ea",
   "metadata": {},
   "source": [
    "I found a list of metaphors from Udemy and asked LLM to explain them."
   ]
  },
  {
   "cell_type": "markdown",
   "id": "31f92cb7-fb6e-4aa6-83c2-522ad625ed0e",
   "metadata": {},
   "source": [
    "The Prompt I gave to Chatgpt (GPT-5) was :\n",
    "\n",
    "    Explain what each of the sentence means:\n",
    "    \n",
    "    I could eat a horse\n",
    "    It all went pear shaped\n",
    "    It’s no skin off my nose\n",
    "    She is an open book: she has nothing to hide.\n",
    "    He wears his heart on his sleeve\n",
    "    It’s showtime\n",
    "    These are the dog days of summer\n",
    "    You’re building castles in the air\n",
    "    I was a million miles away\n",
    "    He marches to his own drummer\n",
    "    Splitting hairs\n",
    "    Nitpicking\n",
    "    The whole enchilada\n",
    "    A nine-to-five job\n",
    "    Hit the books"
   ]
  },
  {
   "cell_type": "markdown",
   "id": "8e57f1a8-2323-4e93-8343-5a9672b15264",
   "metadata": {},
   "source": [
    "LLM’s response (number four should be omitted as the answer was accidentally revealed): "
   ]
  },
  {
   "cell_type": "markdown",
   "id": "992b3259-4fc6-497a-9fc4-c578f4d54f1a",
   "metadata": {},
   "source": [
    "![Chatgpt response on 15 idioms](metaphor_15.png)"
   ]
  },
  {
   "cell_type": "markdown",
   "id": "42728833-0557-4727-9a33-4ee792d94a7c",
   "metadata": {},
   "source": [
    "LLM did well in recognizing metaphors and explaining them with the correct meaning. This is not surprising to me as we have discussed in class and also read from Walfram’s blog that LLM is trained to predict the most likely word that happens next. It is also trained on a wide dataset, so anything that has long been published online would be easily searched through and recognized by LLMs. \n"
   ]
  },
  {
   "cell_type": "markdown",
   "id": "9e7623f8-6d91-4084-9e2d-0d7d0b65ce31",
   "metadata": {},
   "source": [
    "### Part II: LLM’s ability in understanding newly created metaphors. \n"
   ]
  },
  {
   "cell_type": "markdown",
   "id": "920590cc-4814-4bc9-85bf-deda21f6dd05",
   "metadata": {},
   "source": [
    "I was also curious if I make up a metaphor, would LLM infer it from the emotional context and the wide range of human language convention?\n",
    "\n",
    "I wrote these metaphors and sent to LLM:\n",
    "- Your heart is a stone\n",
    "-  The wind is roaring\n",
    "- The store is a warehouse"
   ]
  },
  {
   "cell_type": "markdown",
   "id": "5949a921-de3b-44d8-8dd7-ba49edaf4d44",
   "metadata": {},
   "source": [
    "![Chatgpt understanding on metaphors I created](gpt_response_human_metaphor.png)"
   ]
  },
  {
   "cell_type": "markdown",
   "id": "eb14b7f5-95a3-4270-be94-f31833506e2f",
   "metadata": {},
   "source": [
    "It still seemed to understand them really well. I think this is not surprising because LLMs are trained to predict the meaning behind languages. My metaphors will be easy for humans to understand, so it should be the same for LLMs. \n"
   ]
  },
  {
   "cell_type": "markdown",
   "id": "1af09727-5f10-4170-a9e3-37035fed592d",
   "metadata": {},
   "source": [
    "### Part III: Can humans understand LLM created idioms?\n"
   ]
  },
  {
   "cell_type": "markdown",
   "id": "3bf90968-bbcb-4fa6-8277-c793f419af64",
   "metadata": {},
   "source": [
    "I was then curious about LLM’s ability to create metaphors and if humans can understand them.\n"
   ]
  },
  {
   "cell_type": "markdown",
   "id": "0f1127bc-16e4-4319-a629-a37e60907fe5",
   "metadata": {},
   "source": [
    "![GPT created metaphor](gpt_created_metaphor.png)"
   ]
  },
  {
   "cell_type": "markdown",
   "id": "9b7c6833-302d-41fa-92eb-ef2cfcd380d4",
   "metadata": {},
   "source": [
    "I interviewed three friends and they were all able to understand these metaphors and expressions. These metaphors seem pretty easy to be understood and also carry the depth and arts of expression. This makes me wonder about LLM’s ability in creative and novel writing. I will go further from there next week. \n"
   ]
  },
  {
   "cell_type": "code",
   "execution_count": null,
   "id": "223e0910-bde0-45de-8270-34999923f70a",
   "metadata": {},
   "outputs": [],
   "source": []
  }
 ],
 "metadata": {
  "kernelspec": {
   "display_name": "Python 3-12 (COMM4190)",
   "language": "python",
   "name": "python3-12_comm4190"
  },
  "language_info": {
   "codemirror_mode": {
    "name": "ipython",
    "version": 3
   },
   "file_extension": ".py",
   "mimetype": "text/x-python",
   "name": "python",
   "nbconvert_exporter": "python",
   "pygments_lexer": "ipython3",
   "version": "3.12.11"
  }
 },
 "nbformat": 4,
 "nbformat_minor": 5
}
