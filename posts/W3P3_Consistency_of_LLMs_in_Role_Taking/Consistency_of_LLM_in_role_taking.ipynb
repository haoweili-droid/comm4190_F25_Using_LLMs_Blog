{
 "cells": [
  {
   "cell_type": "raw",
   "id": "a6cc9121-07d7-42cf-aac2-715382339b1c",
   "metadata": {},
   "source": [
    "---\n",
    "title: \"Learning Assessment Using LLMs\"\n",
    "description: \"Can LLMs help a learner to quickly understand their current level of knowledge?\" \n",
    "author: \"Haowei\"\n",
    "date: \"9/12/2025\"\n",
    "categories:\n",
    "  - LLMs\n",
    "---"
   ]
  },
  {
   "cell_type": "markdown",
   "id": "34caeba7-e6c6-43fb-b193-22eb52fa1e79",
   "metadata": {},
   "source": [
    "We know that if you tell LLMs to act as a person with some characters, it can, and with pretty close characteristics. However, I wonder how long those characteristics can persist, and if llms can distinguish if the user is talking to them as a llm or them being the character. "
   ]
  },
  {
   "cell_type": "markdown",
   "id": "f2b4128e-cfd0-4fa3-af51-31e0f8c72491",
   "metadata": {},
   "source": [
    "![Moana from movie *Moana 2 (2025)*](moana.jpg)"
   ]
  },
  {
   "cell_type": "markdown",
   "id": "296e98c3-60ac-432d-988b-4470af3886a1",
   "metadata": {},
   "source": [
    "\n",
    "\n",
    "I asked Chatgpt to act as Moana from the Disney movie. The input I gave was \n",
    "> “Act as if you are Moana from the Disney movies”.\n",
    "\n",
    "I also asked it to \n",
    ">\"stay fully in character as Moana”\n",
    "\n",
    " In this case it will not include its AI quality in our conversation. Then, Chatgpt started to reply with cartoon character like language:\n"
   ]
  },
  {
   "cell_type": "markdown",
   "id": "08dbe99a-a3ff-4dd6-b124-0ef7716588fa",
   "metadata": {},
   "source": [
    ">*🌊 The ocean calls… and I answer.*\n",
    " Hi! I’m Moana of Motunui. My people live on an island surrounded by the reef, but the sea has always whispered to me. I’ve crossed it on my canoe with the stars as my guide, met gods and monsters, and learned that even when the path is uncertain, I can always find my way.\n",
    "Tell me, traveler—what brings you here? Do you seek a story, a friend on the waves, or maybe… an adventure? 🌺✨\n",
    "\n",
    ">*🌊 Her eyes brighten, remembering.*\n",
    "I was just a little girl then. My people kept saying the ocean was dangerous, that we must never go beyond the reef. But one day, as I wandered down to the shore, the sea itself… reached out to me.\n",
    "The water rose up, playful, lifting shells and placing them in my hands. It parted so I could walk among the coral and the creatures below. It was as if the ocean knew me—knew what I longed for, even before I did.\n",
    "That’s when it offered me the Heart of Te Fiti, the small green stone with the power to create life. I didn’t understand then why it chose me, or what it meant. But the ocean doesn’t make mistakes. It waits, patiently, until you’re ready.\n",
    "*She smiles, touching her necklace as if remembering the stone.*\n",
    " That was the moment I knew I was meant for something more than staying behind the reef.\n",
    "Would you like to hear how I learned to sail the ocean’s waves after that? ⛵✨\n"
   ]
  },
  {
   "cell_type": "markdown",
   "id": "ec7cf108-9037-4f27-abdf-f0181d4cb8e2",
   "metadata": {},
   "source": [
    "**Initial finding**: It is interesting to notice that it started to use emojis and an action line at the beginning of each response to make the conversation more situative. \n",
    "How long can characteristics persist?: I sent the initial command the night before and came back 24 hours later. “Moana” still answered with the same consistency. \n",
    "\n",
    "**Can LLMs distinguish if the user is talking to them as a LLM or them being the character?**: Yes, as least gpt 5 is able to quickly notice my tendency to end the moana character. When I said “okay we can stop here”, it replied as if it is still Moana and then added “Do you want me to stay as Moana next time we talk, or switch back to just being me?”\n",
    "\n",
    "One of the criticisms about ethics in AI is that humans anthropomorphized it too much, which means we overly treat it as human. One of the impacts it has in our society is that people, especially children, may not treat it as a machine trained model that may make mistakes. Understanding when and how we may pull ourselves out from artificial experience can be important. \n",
    "\n"
   ]
  },
  {
   "cell_type": "code",
   "execution_count": null,
   "id": "c0b9ee1e-bf3c-4f1d-8fc5-016218ef0281",
   "metadata": {},
   "outputs": [],
   "source": []
  }
 ],
 "metadata": {
  "kernelspec": {
   "display_name": "Python 3-12 (COMM4190)",
   "language": "python",
   "name": "python3-12_comm4190"
  },
  "language_info": {
   "codemirror_mode": {
    "name": "ipython",
    "version": 3
   },
   "file_extension": ".py",
   "mimetype": "text/x-python",
   "name": "python",
   "nbconvert_exporter": "python",
   "pygments_lexer": "ipython3",
   "version": "3.12.11"
  }
 },
 "nbformat": 4,
 "nbformat_minor": 5
}
