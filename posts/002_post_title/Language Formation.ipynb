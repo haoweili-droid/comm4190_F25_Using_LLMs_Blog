{
 "cells": [
  {
   "cell_type": "raw",
   "id": "cb8989fe-5852-4eef-b847-9862a48a4902",
   "metadata": {},
   "source": [
    "---\n",
    "title: \"Haowei's Test\"\n",
    "description: \"Testing Blogging\" \n",
    "author: \"Haowei\"\n",
    "date: \"9/2/2025\"\n",
    "categories:\n",
    "  - Language\n",
    "  - Learning\n",
    "---"
   ]
  },
  {
   "cell_type": "markdown",
   "id": "df7ed2ff-d561-4f6b-8130-0405fa1cab2e",
   "metadata": {},
   "source": [
    "The first half of Chapter one of The Language Game talks about languages formed through verbal and gestures. Formation of language is a process of multiple factors, but it almost always includes interactions, goals, and evolution with time. "
   ]
  },
  {
   "cell_type": "code",
   "execution_count": null,
   "id": "e6a51314-ce69-43a8-bccf-7674cffc1791",
   "metadata": {},
   "outputs": [],
   "source": []
  }
 ],
 "metadata": {
  "kernelspec": {
   "display_name": "Python 3-12 (COMM4190)",
   "language": "python",
   "name": "python3-12_comm4190"
  },
  "language_info": {
   "codemirror_mode": {
    "name": "ipython",
    "version": 3
   },
   "file_extension": ".py",
   "mimetype": "text/x-python",
   "name": "python",
   "nbconvert_exporter": "python",
   "pygments_lexer": "ipython3",
   "version": "3.12.11"
  }
 },
 "nbformat": 4,
 "nbformat_minor": 5
}
