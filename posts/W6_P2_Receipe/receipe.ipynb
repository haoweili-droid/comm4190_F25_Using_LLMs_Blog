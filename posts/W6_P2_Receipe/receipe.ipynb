{
 "cells": [
  {
   "cell_type": "raw",
   "id": "6d29df62-c99e-4430-9006-35d42f5af239",
   "metadata": {},
   "source": [
    "---\n",
    "title: \"Chef LLM\"\n",
    "description: \"Use AI to find new receipes\" \n",
    "author: \"Haowei\"\n",
    "date: \"10/5/2025\"\n",
    "categories:\n",
    "  - LLMs\n",
    "  - Multimodel\n",
    "  - Creativity\n",
    "  - Food\n",
    "---"
   ]
  },
  {
   "cell_type": "markdown",
   "id": "2358b2fd-c2cc-4026-9a0f-0656a402481c",
   "metadata": {},
   "source": [
    "# Chef LLM"
   ]
  },
  {
   "cell_type": "markdown",
   "id": "f1eb1a6b-d3d1-4dbc-9955-0dd42837ed19",
   "metadata": {},
   "source": [
    "<div align=\"center\"> <img src=\"receipe.png\" alt=\"GPT-5 generated receipt infographic for a new Chinese Dish\" width=\"200\"> </div>"
   ]
  },
  {
   "cell_type": "markdown",
   "id": "4a79362d-1ab5-4be9-aae4-8cd449cfbd8f",
   "metadata": {},
   "source": [
    "<p style=\"text-align: center;\"><em>Osmanthus-Scented Shrimp Dumplings Receipes</em></p>\n"
   ]
  },
  {
   "cell_type": "markdown",
   "id": "7e4dab6f-19f0-4b65-980c-bd5975ef767d",
   "metadata": {},
   "source": [
    "As someone who is aware of balances in daily diet and loves cooking, I found it fast to ask Chatgpt about what to eat in a day. \n"
   ]
  },
  {
   "cell_type": "markdown",
   "id": "18f0fa6f-f611-4389-888f-658fa04cbdc9",
   "metadata": {},
   "source": [
    "<div align=\"center\"> <img src=\"food1.png\" alt=\"GPT-5 generated photo of osmenthus Shrimp\" width=\"300\"> </div>"
   ]
  },
  {
   "cell_type": "markdown",
   "id": "742bb0cd-aa0a-4e56-a325-18b94ab6ed27",
   "metadata": {},
   "source": [
    "<p style=\"text-align: center;\"><em>Osmanthus-Scented Shrimp Dumplings Photo</em></p>\n"
   ]
  },
  {
   "cell_type": "markdown",
   "id": "1a012846-acee-4359-b692-96e223b2f096",
   "metadata": {},
   "source": [
    "<div align=\"center\"> <img src=\"food2.png\" alt=\"GPT-5 generated photo of osmenthus Shrimp Plating Design\" width=\"300\"> </div>"
   ]
  },
  {
   "cell_type": "markdown",
   "id": "9c391e39-a288-425c-8ec6-32c852399859",
   "metadata": {},
   "source": [
    "<p style=\"text-align: center;\"><em>Osmanthus-Scented Shrimp Dumplings Plating Design</em></p>\n"
   ]
  },
  {
   "cell_type": "code",
   "execution_count": null,
   "id": "23985c56-dac1-4b7b-a2b3-a7b091e38c44",
   "metadata": {},
   "outputs": [],
   "source": []
  }
 ],
 "metadata": {
  "kernelspec": {
   "display_name": "Python 3-12 (COMM4190)",
   "language": "python",
   "name": "python3-12_comm4190"
  },
  "language_info": {
   "codemirror_mode": {
    "name": "ipython",
    "version": 3
   },
   "file_extension": ".py",
   "mimetype": "text/x-python",
   "name": "python",
   "nbconvert_exporter": "python",
   "pygments_lexer": "ipython3",
   "version": "3.12.11"
  }
 },
 "nbformat": 4,
 "nbformat_minor": 5
}
